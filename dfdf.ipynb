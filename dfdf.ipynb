{
 "cells": [
  {
   "cell_type": "code",
   "execution_count": 1,
   "metadata": {},
   "outputs": [],
   "source": [
    "# Importing the libraries\n",
    "import numpy as np\n",
    "import pandas as pd\n",
    "import re\n",
    "import nltk\n",
    "from nltk.corpus import stopwords\n",
    "from nltk.stem.porter import PorterStemmer\n",
    "from sklearn.feature_extraction.text import CountVectorizer, TfidfVectorizer\n",
    "from sklearn.model_selection import train_test_split\n",
    "from sklearn.metrics import confusion_matrix, accuracy_score\n",
    "\n",
    "# Importing the dataset\n",
    "dataset = pd.read_csv(r\"C:\\Users\\rejas\\Prakash Senapati sir\\Prakash Senapati lab\\4.CUSTOMERS REVIEW DATASET\\Restaurant_Reviews.tsv\", delimiter = '\\t', quoting = 3)\n",
    "\n",
    "# Duplicate the data\n",
    "dataset_2 = pd.concat([dataset, dataset], ignore_index=True)\n",
    "\n",
    "# Cleaning the texts\n",
    "corpus = []\n",
    "for i in range(0, 2000):\n",
    "    review = re.sub('[^a-zA-Z]', ' ', dataset_2['Review'][i])\n",
    "    review = review.lower()\n",
    "    review = review.split()\n",
    "    ps = PorterStemmer()\n",
    "    review = [ps.stem(word) for word in review if not word in set(stopwords.words('english'))]\n",
    "    review = ' '.join(review)\n",
    "    corpus.append(review)\n",
    "\n",
    "# Labels\n",
    "y = dataset_2.iloc[:, 1].values"
   ]
  },
  {
   "cell_type": "code",
   "execution_count": 2,
   "metadata": {},
   "outputs": [],
   "source": [
    "# Feature Extraction using CountVectorizer\n",
    "cv = CountVectorizer()\n",
    "X_cv = cv.fit_transform(corpus).toarray()\n",
    "\n",
    "# Feature Extraction using TfidfVectorizer\n",
    "tfidf = TfidfVectorizer()\n",
    "X_tfidf = tfidf.fit_transform(corpus).toarray()"
   ]
  },
  {
   "cell_type": "code",
   "execution_count": 3,
   "metadata": {},
   "outputs": [
    {
     "name": "stdout",
     "output_type": "stream",
     "text": [
      "Results with CountVectorizer:\n",
      "{'Logistic Regression': 0.925, 'Naive Bayes': 0.875, 'Random Forest': 0.9525, 'XGBoost': 0.8425}\n",
      "Results with TfidfVectorizer:\n",
      "{'Logistic Regression': 0.8825, 'Naive Bayes': 0.8875, 'Random Forest': 0.95, 'XGBoost': 0.845}\n"
     ]
    }
   ],
   "source": [
    "from sklearn.linear_model import LogisticRegression\n",
    "from sklearn.naive_bayes import MultinomialNB\n",
    "from sklearn.ensemble import RandomForestClassifier\n",
    "from xgboost import XGBClassifier\n",
    "\n",
    "# Define a function to train and evaluate models\n",
    "\n",
    "def evaluate_model(X, y): \n",
    "    models = {\n",
    "        \"Logistic Regression\": LogisticRegression(), \n",
    "        \"Naive Bayes\": MultinomialNB(),\n",
    "        \"Random Forest\": RandomForestClassifier(),\n",
    "        \"XGBoost\": XGBClassifier()\n",
    "    }\n",
    "    results = {}\n",
    "    for name, model in models.items():\n",
    "        X_train, X_test, y_train, y_test = train_test_split(X, y, test_size=0.20, random_state=0)\n",
    "        model.fit(X_train, y_train)\n",
    "        y_pred = model.predict(X_test)\n",
    "        accuracy = accuracy_score(y_test, y_pred)\n",
    "        results[name] = accuracy\n",
    "    return results\n",
    "# Evaluate models with CountVectorizer features\n",
    "results_cv = evaluate_model(X_cv, y)\n",
    "print(\"Results with CountVectorizer:\")\n",
    "print(results_cv)\n",
    "\n",
    "# Evaluate models with TfidfVectorizer features\n",
    "\n",
    "results_tfidf = evaluate_model(X_tfidf, y)\n",
    "print(\"Results with TfidfVectorizer:\")\n",
    "print(results_tfidf)"
   ]
  }
 ],
 "metadata": {
  "kernelspec": {
   "display_name": "base",
   "language": "python",
   "name": "python3"
  },
  "language_info": {
   "codemirror_mode": {
    "name": "ipython",
    "version": 3
   },
   "file_extension": ".py",
   "mimetype": "text/x-python",
   "name": "python",
   "nbconvert_exporter": "python",
   "pygments_lexer": "ipython3",
   "version": "3.12.7"
  }
 },
 "nbformat": 4,
 "nbformat_minor": 2
}
